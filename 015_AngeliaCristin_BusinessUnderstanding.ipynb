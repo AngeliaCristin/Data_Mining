{
  "nbformat": 4,
  "nbformat_minor": 0,
  "metadata": {
    "colab": {
      "provenance": [],
      "authorship_tag": "ABX9TyMXaJdXXyB+9Z3IgdYtyxTf",
      "include_colab_link": true
    },
    "kernelspec": {
      "name": "python3",
      "display_name": "Python 3"
    },
    "language_info": {
      "name": "python"
    }
  },
  "cells": [
    {
      "cell_type": "markdown",
      "metadata": {
        "id": "view-in-github",
        "colab_type": "text"
      },
      "source": [
        "<a href=\"https://colab.research.google.com/github/AngeliaCristin/Data_Mining/blob/main/015_AngeliaCristin_BusinessUnderstanding.ipynb\" target=\"_parent\"><img src=\"https://colab.research.google.com/assets/colab-badge.svg\" alt=\"Open In Colab\"/></a>"
      ]
    },
    {
      "cell_type": "code",
      "execution_count": null,
      "metadata": {
        "id": "i5hFZ4Ixs8uZ"
      },
      "outputs": [],
      "source": []
    },
    {
      "cell_type": "markdown",
      "source": [
        "# **Analisis Sentimen Ulasan Pengguna dalam menentukan Produk rekomendasi di Sephora**\n",
        "\n",
        "## **Business Understanding**\n",
        "\n",
        "### **Business Objective**\n",
        "#### tujuan bisnis dari dataset ini adalah untuk mengetahui produk sephora yang direkomendasikan untuk pelanggan melalui analisis sentimen review pengguna terhadap produk Sephora sehingga dapat menciptakan kepuasan pelanggan. Dengan meningkatnya kepuasan pelanggan akan produk Sephora, dapat meningkatkan kepercayaan dan penjualan produk sehingga pendapatan bisnis juga meningkat.\n",
        "\n",
        "### **Assess Situation**\n",
        "#### situasi bisnis yang mendasari analisis ini adalah persaingan pasar yang semakin ketat antara Produk dan Perawatan Kulit Sephora dengan produk Produk dan Perawatan Kulit lainnya, sehingga Shepora harus dapat bersaing untuk mempertahankan pelanggan agar tetap memilih produk Sephora dibanding produk lain. Untuk itu dilakukan usaha dalam menganalisis produk/merek apa yang direkomendasikan ke pelanggan melalui review pengguna dalam menjaga dan meningktakan kepuasan pelanggan sephora sehingga tetap memilih sephora sebagai sarana pembelian Produk dan Perawatan Kulit.\n",
        "\n",
        "### **Data Mining Goals**\n",
        "#### tujuan dari data mining pada data set ini adalah Mengelompokkan produk shepora yang populer atau direkomendasikan melalui analisis sentimen ulasan pelanggan/pengguna Shepora sehingga dapat meningkatkan pengalaman dan kepuasan pelanggan/pengguna Sh epora.\n",
        "\n",
        "### **Project Plan**\n",
        "#### Rencana proyek untuk menganalisis dataset ini dimulai dengan mengumpulkan data terkait review Produk dan skincare Sephora dari sumber yang tersedia. Setelah berhasil mengumpulkan data review Produk dan skincare Sephora, langkah selanjutnya melibatkan pembersihan dan preprocessing data untuk menjamin keakuratan dan konsistensi dataset. Dilanjutkan dengan Exploratory Data Analysis (EDA) untuk memahami korelasi antar variabel. Selanjutnya, analisis sentimen akan dilakukan dengan menerapkan pemrosesan bahasa alami untuk mengklasifikasikan ulasan.Hasil analisis akan diinterpretasikan untuk membentuk kesimpulan dan rekomendasi yang mendukung tujuan awal proyek."
      ],
      "metadata": {
        "id": "SSjmq55TtGLd"
      }
    }
  ]
}